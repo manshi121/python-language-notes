{
 "cells": [
  {
   "cell_type": "code",
   "execution_count": 1,
   "metadata": {},
   "outputs": [
    {
     "name": "stdout",
     "output_type": "stream",
     "text": [
      "Hello :  radhey\n",
      "error is occured, plz dont stop program execution\n",
      "hee i will always execute!\n",
      "this is important line please execute it 1\n",
      "this is important line please execute it 2\n",
      "this is important line please execute it 3\n",
      "this is important line please execute it 4\n",
      "this is important line please execute it 5\n"
     ]
    }
   ],
   "source": [
    "try:\n",
    "    name = input('Plz enter your name : ')\n",
    "    print(\"Hello : \",name)\n",
    "    age = int(input('Plz enter your age : '))\n",
    "    print(f\"Heyy thi is {name} and i am {age} year old!\") # fstring\n",
    "\n",
    "except: \n",
    "    print('error is occured, plz dont stop program execution')\n",
    "\n",
    "else: \n",
    "    print(\"error is not occured\")\n",
    "\n",
    "finally: \n",
    "    print(\"hee i will always execute!\") \n",
    "\n",
    "print(\"this is important line please execute it 1\")\n",
    "print(\"this is important line please execute it 2\")\n",
    "print(\"this is important line please execute it 3\")\n",
    "print(\"this is important line please execute it 4\")\n",
    "print(\"this is important line please execute it 5\")"
   ]
  },
  {
   "cell_type": "code",
   "execution_count": 2,
   "metadata": {},
   "outputs": [
    {
     "ename": "IndexError",
     "evalue": "list index out of range",
     "output_type": "error",
     "traceback": [
      "\u001b[1;31m---------------------------------------------------------------------------\u001b[0m",
      "\u001b[1;31mIndexError\u001b[0m                                Traceback (most recent call last)",
      "Cell \u001b[1;32mIn[2], line 2\u001b[0m\n\u001b[0;32m      1\u001b[0m ls \u001b[38;5;241m=\u001b[39m [\u001b[38;5;241m25\u001b[39m,\u001b[38;5;241m41\u001b[39m,\u001b[38;5;241m63\u001b[39m,\u001b[38;5;241m96\u001b[39m,\u001b[38;5;241m85\u001b[39m]\n\u001b[1;32m----> 2\u001b[0m \u001b[43mls\u001b[49m\u001b[43m[\u001b[49m\u001b[38;5;241;43m5\u001b[39;49m\u001b[43m]\u001b[49m\n",
      "\u001b[1;31mIndexError\u001b[0m: list index out of range"
     ]
    }
   ],
   "source": [
    "ls = [25,41,63,96,85]\n",
    "ls[5]"
   ]
  },
  {
   "cell_type": "code",
   "execution_count": 3,
   "metadata": {},
   "outputs": [
    {
     "name": "stdout",
     "output_type": "stream",
     "text": [
      "plz enter valid input!\n"
     ]
    }
   ],
   "source": [
    "\n",
    "try:\n",
    "    num1 = int(input('plz enter your first number : '))\n",
    "    num2 = int(input('plz enter your second number : '))\n",
    "\n",
    "    output = num1 / num2 \n",
    "    print('This is your ouptut : ',output)\n",
    "except ValueError:\n",
    "    print('plz enter valid input!')\n",
    "\n",
    "except ZeroDivisionError:\n",
    "    print(\"Plz dont assign 0 to num2\")\n",
    "\n",
    "\n",
    "\n",
    "# ValueError \n",
    "# ZeroDivisionError "
   ]
  }
 ],
 "metadata": {
  "kernelspec": {
   "display_name": "Python 3",
   "language": "python",
   "name": "python3"
  },
  "language_info": {
   "codemirror_mode": {
    "name": "ipython",
    "version": 3
   },
   "file_extension": ".py",
   "mimetype": "text/x-python",
   "name": "python",
   "nbconvert_exporter": "python",
   "pygments_lexer": "ipython3",
   "version": "3.12.4"
  }
 },
 "nbformat": 4,
 "nbformat_minor": 2
}
